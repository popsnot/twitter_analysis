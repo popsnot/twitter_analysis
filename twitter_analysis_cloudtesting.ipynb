{
  "nbformat": 4,
  "nbformat_minor": 0,
  "metadata": {
    "colab": {
      "provenance": []
    },
    "kernelspec": {
      "name": "python3",
      "display_name": "Python 3"
    },
    "language_info": {
      "name": "python"
    }
  },
  "cells": [
    {
      "cell_type": "code",
      "source": [
        "from google.colab import drive\n",
        "drive.mount('/content/drive')"
      ],
      "metadata": {
        "colab": {
          "base_uri": "https://localhost:8080/"
        },
        "id": "e634IFNMCnVm",
        "outputId": "53508e6f-5742-4dab-ae2a-baf7e0a4f8c4"
      },
      "execution_count": null,
      "outputs": [
        {
          "output_type": "stream",
          "name": "stdout",
          "text": [
            "Drive already mounted at /content/drive; to attempt to forcibly remount, call drive.mount(\"/content/drive\", force_remount=True).\n"
          ]
        }
      ]
    },
    {
      "cell_type": "code",
      "source": [
        "%%writefile twitter_analysis_pagerank.py\n",
        "import pyspark, time\n",
        "import sys\n",
        "from pyspark import SparkContext, SparkConf\n",
        "import os\n",
        "\n",
        "sc = pyspark.SparkContext()\n",
        "\n",
        "ego_users = [20446839, 26961048, 7670202, 154701532, 258145892, 110755733, 39157827, 16824073, 77404713, 11928542, 13809612, 135605269,\n",
        "252415267, 61086747, 250447400, 434433610, 27595997, 190696559, 314316607, 14045302, 239434259, 117800618, 91067832, 261973875,\n",
        "374007416, 117671022, 18895362, 21028234, 38703025, 54460963, 44130462, 69049114, 54791004, 17797990, 33794839, 255790981, 111374622,\n",
        "428333, 20436059, 107418464, 14371740, 122216533, 276128869, 14147754, 19976791, 90072587, 528575851, 14365883, 14791232, 263224927,\n",
        "269559495, 18681592, 187744415, 151246522, 15070932, 30313925, 30207757, 18665800, 17403755, 28490110, 16183380, 17135931, 16613128,\n",
        "47854857, 134943586, 1608991, 29034979, 18718580, 262310943, 9524062, 216843160, 21061498, 477094958, 59588845, 15477120, 13179562,\n",
        "17922109, 18951737, 18135029, 83883736, 14917050, 22954430, 15859268, 12069912, 202346485, 61158706, 484991854, 33080832, 117809922,\n",
        "16734718, 321652589, 278181157, 165786567, 17770689, 183786731, 87771546, 33868543, 86560711, 73024519, 14618160, 66804457, 21391704,\n",
        "55928029, 86775971, 437300342, 19225156, 127912925, 54226675, 65357070, 242073660, 2589521, 22252971, 287519521, 18988524, 19948202,\n",
        "61311054, 14827526, 15989218, 17866414, 303886358, 15001424, 54107218, 355823615, 96907622, 14984096, 301297627, 68179571, 1775731,\n",
        "23469247, 18486243, 384761809, 82726142, 17045060, 360025190, 40777046, 155976326, 250340951, 15347317, 69548480, 15797184, 40813518,\n",
        "120679977, 124296976, 48132655, 78944566, 71091272, 197903282, 13747362, 80479756, 158874150, 94147192, 188102842, 382110320, 14719129,\n",
        "400867704, 19064433, 190138306, 17918629, 14630490, 100318079, 217796457, 232006900, 121202578, 47673661, 64619842, 345569115, 6297852,\n",
        "364664695, 105398724, 42522911, 23742633, 9460682, 65185224, 326259198, 19110632, 42676302, 219365298, 15849055, 49253437, 16279105,\n",
        "114115460, 17658786, 3253671, 306445007, 336463060, 123684709, 52772629, 45857296, 10985532, 50145896, 612473, 298038575, 623623,\n",
        "22915745, 24117694, 356963, 87004822, 88639412, 113196940, 94915681, 58930815, 14077024, 240740059, 23759573, 266464616, 112628165,\n",
        "229969377, 239141315, 15331855, 94480069, 14353392, 155689319, 19213083, 135895585, 18886852, 143172151, 21363077, 30393917, 1367531,\n",
        "18068719, 14848513, 62985251, 14836915, 93006320, 115911638, 49414491, 232706326, 407769660, 170729553, 14555534, 21415375, 35926608,\n",
        "73298877, 25755158, 191896931, 204646586, 745823, 2363991, 21077642, 230880104, 158414847, 15292446, 186909156, 199483163, 58641627,\n",
        "25649234, 14840869, 12152402, 150402542, 66100530, 184391654, 151175266, 143661263, 291403100, 17111909, 16726878, 31153819, 37977732,\n",
        "6650612, 45333725, 15507297, 15208246, 65360846, 33097148, 53685618, 311227912, 111045742, 69193714, 36836787, 778446, 52442002,\n",
        "28205087, 215824411, 22745706, 742143, 253863144, 6408382, 344966590, 46160500, 2576401, 237049769, 18472735, 14313005, 20179628,\n",
        "15947217, 68257605, 78138151, 24542441, 248224845, 2029971, 89826562, 15329577, 23889102, 116808228, 163374693, 16869298, 35012277,\n",
        "38761811, 92715435, 191916463, 74264908, 5747502, 128135741, 51694885, 163491360, 37723441, 21132431, 90998968, 14528221, 256497288,\n",
        " 176589903, 324201646, 78813, 14332288, 75343905, 22751884, 9855382, 289738351, 202114894, 228270980, 39322973, 18558612, 18630326,\n",
        " 117029850, 144723379, 54331626, 21337501, 23334169, 14129601, 224581852, 532617990, 114885421, 61781462, 5471892, 35166642, 353767514,\n",
        " 30824363, 45753733, 18496986, 36475508, 160237722, 11681802, 198327282, 430313102, 132519763, 78391198, 121685268, 40705032, 87798068,\n",
        " 40022380, 48730516, 297985585, 89032548, 57828817, 18374320, 135397331, 18483115, 37170886, 13275962, 35012599, 18278524, 62609430,\n",
        "  171202083, 17137927, 53235381, 494538543, 66185823, 58427526, 17767841, 107511013, 26234692, 276843589, 11784842, 397688944, 2097571,\n",
        "  308220010, 18486881, 18846990, 153245741, 16027078, 15924858, 116388817, 175529494, 21339164, 6351572, 15706128, 159629146, 15164892,\n",
        "  198628427, 163629705, 14755105, 49098552, 254883790, 7861312, 926981, 18996905, 333966373, 19283723, 31610343, 6018292, 19136295,\n",
        "  72339761, 13811562, 113509970, 84473837, 31477674, 17723880, 90880254, 279854450, 75321229, 31464977, 67378554, 158419434, 80660928,\n",
        "  493138720, 36629388, 14869783, 18270489, 3338681, 83048001, 16674149, 18338485, 124474025, 333881828, 238264600, 11348722, 85432934,\n",
        "  296218728, 96483973, 227785045, 42098834, 46533358]\n",
        "\n",
        "def get_sources_and_destinations(raw_edges_file):\n",
        "  \"\"\" Modified version of 2(a). from lab 4, reads in text file and converts it into an RDD of format: (source, [destinations])\"\"\"\n",
        "  raw_edges_file = sc.textFile(raw_edges_file)\n",
        "  edges_rdd = raw_edges_file.map(lambda x: (int(x.split(',')[0].split('r=')[1].strip(\"'\")), int(x.split(',')[1].split('d=')[1].split(')')[0].strip(\"'\"))))\n",
        "  graph_rdd = edges_rdd.groupByKey().map(lambda x: (x[0], list(x[1])))\n",
        "  return graph_rdd\n",
        "\n",
        "def get_col_trans_matrix(graph_rdd):\n",
        "  def get_length(destinations):\n",
        "    destinations = set(destinations)\n",
        "    output = {}\n",
        "    for item in destinations:\n",
        "      output[item] = 1/len(destinations)\n",
        "    return output\n",
        "  col_matrix = graph_rdd.map(lambda x: (x[0], get_length(x[1])))\n",
        "  return col_matrix\n",
        "\n",
        "def col_to_row_matrix(col_trans_matrix):\n",
        "    row_matrix = col_trans_matrix.flatMap(lambda column: ((row, (column[0], column[1][row])) for row in column[1])).groupByKey().sortByKey()\n",
        "    return row_matrix\n",
        "\n",
        "def row_multiply(row, R):\n",
        "    result = 0\n",
        "    for column, value in row:\n",
        "      if column in R:\n",
        "        result += value * R[column]\n",
        "    return result\n",
        "\n",
        "def produce_main_input(file):\n",
        "  input = col_to_row_matrix(get_col_trans_matrix(get_sources_and_destinations(file)))\n",
        "  return input.sample(False, 0.3, 999)\n",
        "\n",
        "def page_rank_main(graph_rows, iterations=90, convergence_threshold=0.001):\n",
        "    graph_rows.persist()\n",
        "    N = graph_rows.count()\n",
        "    damping_factor = 0.85\n",
        "    R = graph_rows.map(lambda x: (x[0], 1/N)).collectAsMap()\n",
        "    previous_R = R.copy()\n",
        "    for t in range(iterations):\n",
        "        vecR = sc.broadcast(R)\n",
        "        row_results = graph_rows.map(lambda kv: (kv[0], row_multiply(kv[1], vecR.value)))\n",
        "        R = row_results.reduceByKey(lambda a, b: damping_factor*a + (1 - damping_factor)/N + b).collectAsMap()\n",
        "        # Check if values have converged\n",
        "        delta = sum(abs(R[i] - previous_R[i]) for i in R.keys())\n",
        "        if delta < convergence_threshold:\n",
        "            break # Stops the loop, preventing unnecessary iterations\n",
        "        previous_R = R.copy()\n",
        "    # Sort by rank and return the top 10 results\n",
        "    top_results = row_results\n",
        "    graph_rows.unpersist()\n",
        "    return top_results.filter(lambda x: x[0] in ego_users).sortBy(lambda x: -x[1]).take(10)\n",
        "\n",
        "time_start = time.time()\n",
        "\n",
        "page_rank = page_rank_main(produce_main_input(sys.argv[1]))\n",
        "print(page_rank)\n",
        "\n",
        "time_end = time.time()\n",
        "print(f\"elapsed time is {time_end-time_start}\")"
      ],
      "metadata": {
        "id": "AR7lXHpUhfjD",
        "colab": {
          "base_uri": "https://localhost:8080/"
        },
        "outputId": "f46e20b6-84ad-447c-8d9e-1dc0f9276888"
      },
      "execution_count": null,
      "outputs": [
        {
          "output_type": "stream",
          "name": "stdout",
          "text": [
            "Overwriting twitter_analysis_pagerank.py\n"
          ]
        }
      ]
    },
    {
      "cell_type": "code",
      "source": [
        "USERNAME=\"lfoy\"\n",
        "%env REGION=australia-southeast1\n",
        "%env ZONE=australia-southeast1-a\n",
        "%env PROJECT=data301-2023-$USERNAME\n",
        "%env CLUSTER=data301-2023-$USERNAME-twitter-analysis-cluster\n",
        "%env BUCKET=data301-2023-$USERNAME-twitter-analysis-bucket"
      ],
      "metadata": {
        "id": "UOkjDzoZn-fu",
        "colab": {
          "base_uri": "https://localhost:8080/"
        },
        "outputId": "2afc2212-924c-4bd4-a18c-c737015231e3"
      },
      "execution_count": null,
      "outputs": [
        {
          "output_type": "stream",
          "name": "stdout",
          "text": [
            "env: REGION=australia-southeast1\n",
            "env: ZONE=australia-southeast1-a\n",
            "env: PROJECT=data301-2023-lfoy\n",
            "env: CLUSTER=data301-2023-lfoy-twitter-analysis-cluster\n",
            "env: BUCKET=data301-2023-lfoy-twitter-analysis-bucket\n"
          ]
        }
      ]
    },
    {
      "cell_type": "code",
      "source": [
        "!python3 -m pip install google-cloud-dataproc[libcst]"
      ],
      "metadata": {
        "id": "YjO5KM1syeAV",
        "colab": {
          "base_uri": "https://localhost:8080/"
        },
        "outputId": "21704a66-03f4-4737-d5d1-a12351666293"
      },
      "execution_count": null,
      "outputs": [
        {
          "output_type": "stream",
          "name": "stdout",
          "text": [
            "Looking in indexes: https://pypi.org/simple, https://us-python.pkg.dev/colab-wheels/public/simple/\n",
            "Requirement already satisfied: google-cloud-dataproc[libcst] in /usr/local/lib/python3.10/dist-packages (5.4.1)\n",
            "\u001b[33mWARNING: google-cloud-dataproc 5.4.1 does not provide the extra 'libcst'\u001b[0m\u001b[33m\n",
            "\u001b[0mRequirement already satisfied: google-api-core[grpc]!=2.0.*,!=2.1.*,!=2.10.*,!=2.2.*,!=2.3.*,!=2.4.*,!=2.5.*,!=2.6.*,!=2.7.*,!=2.8.*,!=2.9.*,<3.0.0dev,>=1.34.0 in /usr/local/lib/python3.10/dist-packages (from google-cloud-dataproc[libcst]) (2.11.0)\n",
            "Requirement already satisfied: proto-plus<2.0.0dev,>=1.22.0 in /usr/local/lib/python3.10/dist-packages (from google-cloud-dataproc[libcst]) (1.22.2)\n",
            "Requirement already satisfied: protobuf!=3.20.0,!=3.20.1,!=4.21.0,!=4.21.1,!=4.21.2,!=4.21.3,!=4.21.4,!=4.21.5,<5.0.0dev,>=3.19.5 in /usr/local/lib/python3.10/dist-packages (from google-cloud-dataproc[libcst]) (3.20.3)\n",
            "Requirement already satisfied: grpc-google-iam-v1<1.0.0dev,>=0.12.4 in /usr/local/lib/python3.10/dist-packages (from google-cloud-dataproc[libcst]) (0.12.6)\n",
            "Requirement already satisfied: googleapis-common-protos<2.0dev,>=1.56.2 in /usr/local/lib/python3.10/dist-packages (from google-api-core[grpc]!=2.0.*,!=2.1.*,!=2.10.*,!=2.2.*,!=2.3.*,!=2.4.*,!=2.5.*,!=2.6.*,!=2.7.*,!=2.8.*,!=2.9.*,<3.0.0dev,>=1.34.0->google-cloud-dataproc[libcst]) (1.59.0)\n",
            "Requirement already satisfied: google-auth<3.0dev,>=2.14.1 in /usr/local/lib/python3.10/dist-packages (from google-api-core[grpc]!=2.0.*,!=2.1.*,!=2.10.*,!=2.2.*,!=2.3.*,!=2.4.*,!=2.5.*,!=2.6.*,!=2.7.*,!=2.8.*,!=2.9.*,<3.0.0dev,>=1.34.0->google-cloud-dataproc[libcst]) (2.17.3)\n",
            "Requirement already satisfied: requests<3.0.0dev,>=2.18.0 in /usr/local/lib/python3.10/dist-packages (from google-api-core[grpc]!=2.0.*,!=2.1.*,!=2.10.*,!=2.2.*,!=2.3.*,!=2.4.*,!=2.5.*,!=2.6.*,!=2.7.*,!=2.8.*,!=2.9.*,<3.0.0dev,>=1.34.0->google-cloud-dataproc[libcst]) (2.27.1)\n",
            "Requirement already satisfied: grpcio<2.0dev,>=1.33.2 in /usr/local/lib/python3.10/dist-packages (from google-api-core[grpc]!=2.0.*,!=2.1.*,!=2.10.*,!=2.2.*,!=2.3.*,!=2.4.*,!=2.5.*,!=2.6.*,!=2.7.*,!=2.8.*,!=2.9.*,<3.0.0dev,>=1.34.0->google-cloud-dataproc[libcst]) (1.54.0)\n",
            "Requirement already satisfied: grpcio-status<2.0dev,>=1.33.2 in /usr/local/lib/python3.10/dist-packages (from google-api-core[grpc]!=2.0.*,!=2.1.*,!=2.10.*,!=2.2.*,!=2.3.*,!=2.4.*,!=2.5.*,!=2.6.*,!=2.7.*,!=2.8.*,!=2.9.*,<3.0.0dev,>=1.34.0->google-cloud-dataproc[libcst]) (1.48.2)\n",
            "Requirement already satisfied: cachetools<6.0,>=2.0.0 in /usr/local/lib/python3.10/dist-packages (from google-auth<3.0dev,>=2.14.1->google-api-core[grpc]!=2.0.*,!=2.1.*,!=2.10.*,!=2.2.*,!=2.3.*,!=2.4.*,!=2.5.*,!=2.6.*,!=2.7.*,!=2.8.*,!=2.9.*,<3.0.0dev,>=1.34.0->google-cloud-dataproc[libcst]) (5.3.0)\n",
            "Requirement already satisfied: pyasn1-modules>=0.2.1 in /usr/local/lib/python3.10/dist-packages (from google-auth<3.0dev,>=2.14.1->google-api-core[grpc]!=2.0.*,!=2.1.*,!=2.10.*,!=2.2.*,!=2.3.*,!=2.4.*,!=2.5.*,!=2.6.*,!=2.7.*,!=2.8.*,!=2.9.*,<3.0.0dev,>=1.34.0->google-cloud-dataproc[libcst]) (0.3.0)\n",
            "Requirement already satisfied: six>=1.9.0 in /usr/local/lib/python3.10/dist-packages (from google-auth<3.0dev,>=2.14.1->google-api-core[grpc]!=2.0.*,!=2.1.*,!=2.10.*,!=2.2.*,!=2.3.*,!=2.4.*,!=2.5.*,!=2.6.*,!=2.7.*,!=2.8.*,!=2.9.*,<3.0.0dev,>=1.34.0->google-cloud-dataproc[libcst]) (1.16.0)\n",
            "Requirement already satisfied: rsa<5,>=3.1.4 in /usr/local/lib/python3.10/dist-packages (from google-auth<3.0dev,>=2.14.1->google-api-core[grpc]!=2.0.*,!=2.1.*,!=2.10.*,!=2.2.*,!=2.3.*,!=2.4.*,!=2.5.*,!=2.6.*,!=2.7.*,!=2.8.*,!=2.9.*,<3.0.0dev,>=1.34.0->google-cloud-dataproc[libcst]) (4.9)\n",
            "Requirement already satisfied: urllib3<1.27,>=1.21.1 in /usr/local/lib/python3.10/dist-packages (from requests<3.0.0dev,>=2.18.0->google-api-core[grpc]!=2.0.*,!=2.1.*,!=2.10.*,!=2.2.*,!=2.3.*,!=2.4.*,!=2.5.*,!=2.6.*,!=2.7.*,!=2.8.*,!=2.9.*,<3.0.0dev,>=1.34.0->google-cloud-dataproc[libcst]) (1.26.15)\n",
            "Requirement already satisfied: certifi>=2017.4.17 in /usr/local/lib/python3.10/dist-packages (from requests<3.0.0dev,>=2.18.0->google-api-core[grpc]!=2.0.*,!=2.1.*,!=2.10.*,!=2.2.*,!=2.3.*,!=2.4.*,!=2.5.*,!=2.6.*,!=2.7.*,!=2.8.*,!=2.9.*,<3.0.0dev,>=1.34.0->google-cloud-dataproc[libcst]) (2022.12.7)\n",
            "Requirement already satisfied: charset-normalizer~=2.0.0 in /usr/local/lib/python3.10/dist-packages (from requests<3.0.0dev,>=2.18.0->google-api-core[grpc]!=2.0.*,!=2.1.*,!=2.10.*,!=2.2.*,!=2.3.*,!=2.4.*,!=2.5.*,!=2.6.*,!=2.7.*,!=2.8.*,!=2.9.*,<3.0.0dev,>=1.34.0->google-cloud-dataproc[libcst]) (2.0.12)\n",
            "Requirement already satisfied: idna<4,>=2.5 in /usr/local/lib/python3.10/dist-packages (from requests<3.0.0dev,>=2.18.0->google-api-core[grpc]!=2.0.*,!=2.1.*,!=2.10.*,!=2.2.*,!=2.3.*,!=2.4.*,!=2.5.*,!=2.6.*,!=2.7.*,!=2.8.*,!=2.9.*,<3.0.0dev,>=1.34.0->google-cloud-dataproc[libcst]) (3.4)\n",
            "Requirement already satisfied: pyasn1<0.6.0,>=0.4.6 in /usr/local/lib/python3.10/dist-packages (from pyasn1-modules>=0.2.1->google-auth<3.0dev,>=2.14.1->google-api-core[grpc]!=2.0.*,!=2.1.*,!=2.10.*,!=2.2.*,!=2.3.*,!=2.4.*,!=2.5.*,!=2.6.*,!=2.7.*,!=2.8.*,!=2.9.*,<3.0.0dev,>=1.34.0->google-cloud-dataproc[libcst]) (0.5.0)\n"
          ]
        }
      ]
    },
    {
      "cell_type": "code",
      "source": [
        "!gcloud auth login"
      ],
      "metadata": {
        "id": "FnI25OW5sZbi",
        "colab": {
          "base_uri": "https://localhost:8080/"
        },
        "outputId": "26114462-873c-4a9d-d8c2-b0f44a95bbc8"
      },
      "execution_count": null,
      "outputs": [
        {
          "output_type": "stream",
          "name": "stdout",
          "text": [
            "Go to the following link in your browser:\n",
            "\n",
            "    https://accounts.google.com/o/oauth2/auth?response_type=code&client_id=32555940559.apps.googleusercontent.com&redirect_uri=https%3A%2F%2Fsdk.cloud.google.com%2Fauthcode.html&scope=openid+https%3A%2F%2Fwww.googleapis.com%2Fauth%2Fuserinfo.email+https%3A%2F%2Fwww.googleapis.com%2Fauth%2Fcloud-platform+https%3A%2F%2Fwww.googleapis.com%2Fauth%2Fappengine.admin+https%3A%2F%2Fwww.googleapis.com%2Fauth%2Fsqlservice.login+https%3A%2F%2Fwww.googleapis.com%2Fauth%2Fcompute+https%3A%2F%2Fwww.googleapis.com%2Fauth%2Faccounts.reauth&state=aEBvUmAvHZSHStlQPh34c4yvw5sSdY&prompt=consent&access_type=offline&code_challenge=Sm_Gxk18yTV0ln7MaAL9lH-3GHehf36h6osM8JuHbds&code_challenge_method=S256\n",
            "\n",
            "Enter authorization code: 4/0AbUR2VNVLNGpqBwoZMSlXl-XPEpn7_bSsYno1_0c4DODKeZMhlbz48fK1EVUDhVDrn0UKw\n",
            "\n",
            "You are now logged in as [lukafoy2@gmail.com].\n",
            "Your current project is [data301-2023-lfoy].  You can change this setting by running:\n",
            "  $ gcloud config set project PROJECT_ID\n"
          ]
        }
      ]
    },
    {
      "cell_type": "code",
      "source": [
        "!gcloud config set project $PROJECT\n"
      ],
      "metadata": {
        "id": "amoSsx8Wvvhd",
        "colab": {
          "base_uri": "https://localhost:8080/"
        },
        "outputId": "1d6f1841-0b35-4d73-b339-dc943de0ce85"
      },
      "execution_count": null,
      "outputs": [
        {
          "output_type": "stream",
          "name": "stdout",
          "text": [
            "Updated property [core/project].\n"
          ]
        }
      ]
    },
    {
      "cell_type": "code",
      "source": [
        "!gcloud services enable dataproc.googleapis.com cloudresourcemanager.googleapis.com\n"
      ],
      "metadata": {
        "id": "9oxZpgrL5Krp",
        "colab": {
          "base_uri": "https://localhost:8080/"
        },
        "outputId": "705d2876-2450-49ec-a62e-19a54e054757"
      },
      "execution_count": null,
      "outputs": [
        {
          "output_type": "stream",
          "name": "stdout",
          "text": [
            "Operation \"operations/acat.p2-652813555918-176236de-fd79-4e9a-bb74-ea78d8930d3a\" finished successfully.\n"
          ]
        }
      ]
    },
    {
      "cell_type": "code",
      "source": [
        "!gsutil mb -c regional -l $REGION -p $PROJECT gs://$BUCKET"
      ],
      "metadata": {
        "id": "s1Kwsib8wynj",
        "outputId": "a40259a3-cc5b-445d-c03d-f96803d26bbe",
        "colab": {
          "base_uri": "https://localhost:8080/"
        }
      },
      "execution_count": null,
      "outputs": [
        {
          "output_type": "stream",
          "name": "stdout",
          "text": [
            "Creating gs://data301-2023-lfoy-twitter-analysis-bucket/...\n",
            "ServiceException: 409 A Cloud Storage bucket named 'data301-2023-lfoy-twitter-analysis-bucket' already exists. Try another name. Bucket names must be globally unique across all Google Cloud projects, including those outside of your organization.\n"
          ]
        }
      ]
    },
    {
      "cell_type": "code",
      "source": [
        "!gcloud dataproc clusters create $CLUSTER --region=$REGION --bucket=$BUCKET --zone=$ZONE \\\n",
        "--master-machine-type=custom-1-6144 \\\n",
        "--image-version=1.5 --max-age=30m --single-node"
      ],
      "metadata": {
        "id": "VcIKstoRxmtA",
        "outputId": "559e93a3-5fee-4813-f290-63c61cd9cf74",
        "colab": {
          "base_uri": "https://localhost:8080/"
        }
      },
      "execution_count": null,
      "outputs": [
        {
          "output_type": "stream",
          "name": "stdout",
          "text": [
            "Waiting on operation [projects/data301-2023-lfoy/regions/australia-southeast1/operations/7b78fad2-921b-305b-9d1f-a066699e0596].\n",
            "\n",
            "\u001b[1;33mWARNING:\u001b[0m Consider using Auto Zone rather than selecting a zone manually. See https://cloud.google.com/dataproc/docs/concepts/configuring-clusters/auto-zone\n",
            "\u001b[1;33mWARNING:\u001b[0m Permissions are missing for the default service account '652813555918-compute@developer.gserviceaccount.com', missing permissions: [storage.objects.get, storage.objects.update] on the staging_bucket 'projects/_/buckets/data301-2023-lfoy-twitter-analysis-bucket'. This usually happens when a custom resource (ex: custom staging bucket) or a user-managed VM Service account has been provided and the default/user-managed service account hasn't been granted enough permissions on the resource. See https://cloud.google.com/dataproc/docs/concepts/configuring-clusters/service-accounts#VM_service_account.\n",
            "\u001b[1;33mWARNING:\u001b[0m Permissions are missing for the default service account '652813555918-compute@developer.gserviceaccount.com', missing permissions: [storage.objects.get, storage.objects.update] on the temp_bucket 'projects/_/buckets/dataproc-temp-au-southeast1-652813555918-5mmflgp2'. This usually happens when a custom resource (ex: custom staging bucket) or a user-managed VM Service account has been provided and the default/user-managed service account hasn't been granted enough permissions on the resource. See https://cloud.google.com/dataproc/docs/concepts/configuring-clusters/service-accounts#VM_service_account.\n",
            "Created [https://dataproc.googleapis.com/v1/projects/data301-2023-lfoy/regions/australia-southeast1/clusters/data301-2023-lfoy-twitter-analysis-cluster] Cluster placed in zone [australia-southeast1-a].\n"
          ]
        }
      ]
    },
    {
      "cell_type": "code",
      "source": [
        "!gcloud dataproc jobs submit pyspark --cluster=$CLUSTER --region=$REGION twitter_analysis_pagerank.py -- gs://$BUCKET/edges_rdd10.txt"
      ],
      "metadata": {
        "id": "mZ94eG3W3dz5",
        "colab": {
          "base_uri": "https://localhost:8080/"
        },
        "outputId": "03f3a7a7-16e0-4068-dc86-10567ac4dcea"
      },
      "execution_count": null,
      "outputs": [
        {
          "output_type": "stream",
          "name": "stdout",
          "text": [
            "Job [be9441e0512d4f87a1f1eb47850c81cb] submitted.\n",
            "Waiting for job output...\n",
            "23/06/01 10:10:16 INFO org.apache.spark.SparkEnv: Registering MapOutputTracker\n",
            "23/06/01 10:10:16 INFO org.apache.spark.SparkEnv: Registering BlockManagerMaster\n",
            "23/06/01 10:10:16 INFO org.apache.spark.SparkEnv: Registering OutputCommitCoordinator\n",
            "23/06/01 10:10:16 INFO org.spark_project.jetty.util.log: Logging initialized @5602ms to org.spark_project.jetty.util.log.Slf4jLog\n",
            "23/06/01 10:10:16 INFO org.spark_project.jetty.server.Server: jetty-9.4.z-SNAPSHOT; built: unknown; git: unknown; jvm 1.8.0_362-b09\n",
            "23/06/01 10:10:16 INFO org.spark_project.jetty.server.Server: Started @5936ms\n",
            "23/06/01 10:10:17 INFO org.spark_project.jetty.server.AbstractConnector: Started ServerConnector@41b18748{HTTP/1.1, (http/1.1)}{0.0.0.0:39213}\n",
            "23/06/01 10:10:19 INFO org.apache.hadoop.yarn.client.RMProxy: Connecting to ResourceManager at data301-2023-lfoy-twitter-analysis-cluster-m/10.152.0.27:8032\n",
            "23/06/01 10:10:19 INFO org.apache.hadoop.yarn.client.AHSProxy: Connecting to Application History server at data301-2023-lfoy-twitter-analysis-cluster-m/10.152.0.27:10200\n",
            "23/06/01 10:10:20 INFO org.apache.hadoop.conf.Configuration: resource-types.xml not found\n",
            "23/06/01 10:10:20 INFO org.apache.hadoop.yarn.util.resource.ResourceUtils: Unable to find 'resource-types.xml'.\n",
            "23/06/01 10:10:20 INFO org.apache.hadoop.yarn.util.resource.ResourceUtils: Adding resource type - name = memory-mb, units = Mi, type = COUNTABLE\n",
            "23/06/01 10:10:20 INFO org.apache.hadoop.yarn.util.resource.ResourceUtils: Adding resource type - name = vcores, units = , type = COUNTABLE\n",
            "23/06/01 10:10:21 WARN org.apache.hadoop.hdfs.DataStreamer: Caught exception\n",
            "java.lang.InterruptedException\n",
            "\tat java.lang.Object.wait(Native Method)\n",
            "\tat java.lang.Thread.join(Thread.java:1257)\n",
            "\tat java.lang.Thread.join(Thread.java:1331)\n",
            "\tat org.apache.hadoop.hdfs.DataStreamer.closeResponder(DataStreamer.java:980)\n",
            "\tat org.apache.hadoop.hdfs.DataStreamer.endBlock(DataStreamer.java:630)\n",
            "\tat org.apache.hadoop.hdfs.DataStreamer.run(DataStreamer.java:807)\n",
            "23/06/01 10:10:23 INFO org.apache.hadoop.yarn.client.api.impl.YarnClientImpl: Submitted application application_1685613447722_0002\n",
            "23/06/01 10:10:40 INFO org.apache.hadoop.mapred.FileInputFormat: Total input files to process : 434\n",
            "[(19283723, 3.558308484856656e-09), (37170886, 3.026770059492201e-09), (18996905, 1.2802587662329396e-09), (134943586, 8.03786604382258e-10), (18951737, 4.993104693124791e-10), (17723880, 2.9472768482302383e-10), (229969377, 2.743081825398194e-10), (6351572, 2.6930402680864466e-10), (204646586, 2.0958413142970585e-10), (15329577, 1.603059258580815e-10)]\n",
            "elapsed time is 323.49314761161804\n",
            "23/06/01 10:16:00 INFO org.spark_project.jetty.server.AbstractConnector: Stopped Spark@41b18748{HTTP/1.1, (http/1.1)}{0.0.0.0:0}\n",
            "Job [be9441e0512d4f87a1f1eb47850c81cb] finished successfully.\n",
            "done: true\n",
            "driverControlFilesUri: gs://data301-2023-lfoy-twitter-analysis-bucket/google-cloud-dataproc-metainfo/afb2d76e-cae1-4b59-8c4c-e47d69403069/jobs/be9441e0512d4f87a1f1eb47850c81cb/\n",
            "driverOutputResourceUri: gs://data301-2023-lfoy-twitter-analysis-bucket/google-cloud-dataproc-metainfo/afb2d76e-cae1-4b59-8c4c-e47d69403069/jobs/be9441e0512d4f87a1f1eb47850c81cb/driveroutput\n",
            "jobUuid: cf135a74-edd2-34f5-a1ec-74d889fece14\n",
            "placement:\n",
            "  clusterName: data301-2023-lfoy-twitter-analysis-cluster\n",
            "  clusterUuid: afb2d76e-cae1-4b59-8c4c-e47d69403069\n",
            "pysparkJob:\n",
            "  args:\n",
            "  - gs://data301-2023-lfoy-twitter-analysis-bucket/edges_rdd10.txt\n",
            "  mainPythonFileUri: gs://data301-2023-lfoy-twitter-analysis-bucket/google-cloud-dataproc-metainfo/afb2d76e-cae1-4b59-8c4c-e47d69403069/jobs/be9441e0512d4f87a1f1eb47850c81cb/staging/twitter_analysis_pagerank.py\n",
            "reference:\n",
            "  jobId: be9441e0512d4f87a1f1eb47850c81cb\n",
            "  projectId: data301-2023-lfoy\n",
            "status:\n",
            "  state: DONE\n",
            "  stateStartTime: '2023-06-01T10:16:06.872195Z'\n",
            "statusHistory:\n",
            "- state: PENDING\n",
            "  stateStartTime: '2023-06-01T10:10:09.513696Z'\n",
            "- state: SETUP_DONE\n",
            "  stateStartTime: '2023-06-01T10:10:09.550411Z'\n",
            "- details: Agent reported job success\n",
            "  state: RUNNING\n",
            "  stateStartTime: '2023-06-01T10:10:10.364425Z'\n",
            "yarnApplications:\n",
            "- name: twitter_analysis_pagerank.py\n",
            "  progress: 1.0\n",
            "  state: FINISHED\n",
            "  trackingUrl: http://data301-2023-lfoy-twitter-analysis-cluster-m:8088/proxy/application_1685613447722_0002/\n"
          ]
        }
      ]
    },
    {
      "cell_type": "code",
      "source": [
        "!gcloud dataproc clusters delete $CLUSTER --region=$REGION --quiet"
      ],
      "metadata": {
        "id": "QHdzKyQJ3A77",
        "colab": {
          "base_uri": "https://localhost:8080/"
        },
        "outputId": "bedb25e4-419c-4074-f02e-919ba1dab797"
      },
      "execution_count": null,
      "outputs": [
        {
          "output_type": "stream",
          "name": "stdout",
          "text": [
            "Waiting on operation [projects/data301-2023-lfoy/regions/australia-southeast1/operations/dd979acd-7e03-3e9b-a1b9-b2b5e2943758].\n",
            "Deleted [https://dataproc.googleapis.com/v1/projects/data301-2023-lfoy/regions/australia-southeast1/clusters/data301-2023-lfoy-twitter-analysis-cluster].\n"
          ]
        }
      ]
    }
  ]
}